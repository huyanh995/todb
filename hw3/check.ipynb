{
 "cells": [
  {
   "cell_type": "code",
   "execution_count": 1,
   "metadata": {},
   "outputs": [],
   "source": [
    "import pandas as pd\n"
   ]
  },
  {
   "cell_type": "code",
   "execution_count": 2,
   "metadata": {},
   "outputs": [
    {
     "data": {
      "text/plain": [
       "41704"
      ]
     },
     "execution_count": 2,
     "metadata": {},
     "output_type": "execute_result"
    }
   ],
   "source": [
    "df = pd.read_csv('/home/spatial/todb/hw3/Health_Facility_Certification_Information.csv')\n",
    "len(df['Facility ID']) - len(df['Facility ID'].unique())\n"
   ]
  },
  {
   "cell_type": "code",
   "execution_count": 3,
   "metadata": {},
   "outputs": [
    {
     "data": {
      "text/plain": [
       "Facility ID          int64\n",
       "Facility Name       object\n",
       "Description         object\n",
       "Attribute Type      object\n",
       "Attribute Value     object\n",
       "Measure Value      float64\n",
       "County              object\n",
       "dtype: object"
      ]
     },
     "execution_count": 3,
     "metadata": {},
     "output_type": "execute_result"
    }
   ],
   "source": [
    "df.dtypes\n"
   ]
  },
  {
   "cell_type": "code",
   "execution_count": 4,
   "metadata": {},
   "outputs": [
    {
     "data": {
      "text/html": [
       "<div>\n",
       "<style scoped>\n",
       "    .dataframe tbody tr th:only-of-type {\n",
       "        vertical-align: middle;\n",
       "    }\n",
       "\n",
       "    .dataframe tbody tr th {\n",
       "        vertical-align: top;\n",
       "    }\n",
       "\n",
       "    .dataframe thead th {\n",
       "        text-align: right;\n",
       "    }\n",
       "</style>\n",
       "<table border=\"1\" class=\"dataframe\">\n",
       "  <thead>\n",
       "    <tr style=\"text-align: right;\">\n",
       "      <th></th>\n",
       "      <th>Facility ID</th>\n",
       "      <th>Facility Name</th>\n",
       "      <th>Description</th>\n",
       "      <th>Attribute Type</th>\n",
       "      <th>Attribute Value</th>\n",
       "      <th>Measure Value</th>\n",
       "      <th>County</th>\n",
       "    </tr>\n",
       "  </thead>\n",
       "  <tbody>\n",
       "    <tr>\n",
       "      <th>0</th>\n",
       "      <td>1</td>\n",
       "      <td>Albany Medical Center Hospital</td>\n",
       "      <td>Hospital</td>\n",
       "      <td>Bed</td>\n",
       "      <td>AIDS</td>\n",
       "      <td>15.0</td>\n",
       "      <td>Albany</td>\n",
       "    </tr>\n",
       "    <tr>\n",
       "      <th>1</th>\n",
       "      <td>1</td>\n",
       "      <td>Albany Medical Center Hospital</td>\n",
       "      <td>Hospital</td>\n",
       "      <td>Bed</td>\n",
       "      <td>Bone Marrow Transplant</td>\n",
       "      <td>6.0</td>\n",
       "      <td>Albany</td>\n",
       "    </tr>\n",
       "    <tr>\n",
       "      <th>2</th>\n",
       "      <td>1</td>\n",
       "      <td>Albany Medical Center Hospital</td>\n",
       "      <td>Hospital</td>\n",
       "      <td>Bed</td>\n",
       "      <td>Coronary Care</td>\n",
       "      <td>20.0</td>\n",
       "      <td>Albany</td>\n",
       "    </tr>\n",
       "    <tr>\n",
       "      <th>3</th>\n",
       "      <td>1</td>\n",
       "      <td>Albany Medical Center Hospital</td>\n",
       "      <td>Hospital</td>\n",
       "      <td>Bed</td>\n",
       "      <td>Intensive Care</td>\n",
       "      <td>60.0</td>\n",
       "      <td>Albany</td>\n",
       "    </tr>\n",
       "    <tr>\n",
       "      <th>4</th>\n",
       "      <td>1</td>\n",
       "      <td>Albany Medical Center Hospital</td>\n",
       "      <td>Hospital</td>\n",
       "      <td>Bed</td>\n",
       "      <td>Maternity</td>\n",
       "      <td>39.0</td>\n",
       "      <td>Albany</td>\n",
       "    </tr>\n",
       "  </tbody>\n",
       "</table>\n",
       "</div>"
      ],
      "text/plain": [
       "   Facility ID                   Facility Name Description Attribute Type  \\\n",
       "0            1  Albany Medical Center Hospital    Hospital            Bed   \n",
       "1            1  Albany Medical Center Hospital    Hospital            Bed   \n",
       "2            1  Albany Medical Center Hospital    Hospital            Bed   \n",
       "3            1  Albany Medical Center Hospital    Hospital            Bed   \n",
       "4            1  Albany Medical Center Hospital    Hospital            Bed   \n",
       "\n",
       "          Attribute Value  Measure Value  County  \n",
       "0                    AIDS           15.0  Albany  \n",
       "1  Bone Marrow Transplant            6.0  Albany  \n",
       "2           Coronary Care           20.0  Albany  \n",
       "3          Intensive Care           60.0  Albany  \n",
       "4               Maternity           39.0  Albany  "
      ]
     },
     "execution_count": 4,
     "metadata": {},
     "output_type": "execute_result"
    }
   ],
   "source": [
    "df.head(5)\n"
   ]
  },
  {
   "cell_type": "code",
   "execution_count": 18,
   "metadata": {},
   "outputs": [
    {
     "data": {
      "text/plain": [
       "14"
      ]
     },
     "execution_count": 18,
     "metadata": {},
     "output_type": "execute_result"
    }
   ],
   "source": [
    "df['County'].apply(lambda x: len(x)).max()\n"
   ]
  },
  {
   "cell_type": "code",
   "execution_count": null,
   "metadata": {},
   "outputs": [],
   "source": []
  }
 ],
 "metadata": {
  "kernelspec": {
   "display_name": "Python 3",
   "language": "python",
   "name": "python3"
  },
  "language_info": {
   "codemirror_mode": {
    "name": "ipython",
    "version": 3
   },
   "file_extension": ".py",
   "mimetype": "text/x-python",
   "name": "python",
   "nbconvert_exporter": "python",
   "pygments_lexer": "ipython3",
   "version": "3.10.12"
  }
 },
 "nbformat": 4,
 "nbformat_minor": 2
}
